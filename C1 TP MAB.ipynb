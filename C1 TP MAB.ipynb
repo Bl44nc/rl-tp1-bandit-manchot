{
 "cells": [
  {
   "cell_type": "markdown",
   "metadata": {
    "tags": []
   },
   "source": [
    "# Introduction à l'apprentissage par renforcement\n",
    "# TP 1 - les manchots multi-bras\n",
    "\n",
    "1/4 de la note finale est liée à la mise en forme : \n",
    "\n",
    "* pensez à nettoyer les outputs inutiles (installation, messages de débuggage, ...)\n",
    "* soignez vos figures : les axes sont-ils faciles à comprendre ? L'échelle est adaptée ? \n",
    "* commentez vos résultats : vous attendiez-vous à les avoir ? Est-ce étonnant ? Faites le lien avec la théorie.\n",
    "\n",
    "Ce TP reprend l'exemple d'un médecin et de ses vaccins. Vous allez comparer plusieurs stratégies et trouver celle optimale.\n",
    "Un TP se fait seul ou en binôme. Aucun groupe de plus de 2 personnes. \n",
    "\n",
    "Vous allez rendre le TP depuis un lien GitHub avec ce notebook mais une version du rapport exportée en PDF & HTML. "
   ]
  },
  {
   "cell_type": "code",
   "execution_count": null,
   "metadata": {},
   "outputs": [],
   "source": [
    "# ! pip install matplotlib tqdm numpy ipympl opencv-python\n",
    "# !jupyter labextension install @jupyter-widgets/jupyterlab-manager\n",
    "# !jupyter labextension install jupyter-matplotlib"
   ]
  },
  {
   "cell_type": "code",
   "execution_count": 1,
   "metadata": {},
   "outputs": [],
   "source": [
    "%load_ext autoreload\n",
    "%autoreload 2\n",
    "%matplotlib inline \n",
    "\n",
    "import typing as t\n",
    "import math\n",
    "import torch\n",
    "import numpy as np\n",
    "from tqdm.auto import trange, tqdm\n",
    "import matplotlib.pyplot as plt\n",
    "from matplotlib.animation import FuncAnimation\n",
    "import matplotlib.animation as animation\n",
    "from matplotlib.backends.backend_agg import FigureCanvasAgg as FigureCanvas\n",
    "import cv2\n",
    "from IPython.display import display, clear_output\n",
    "\n",
    "torch.random.manual_seed(0)\n",
    "\n",
    "K = 5 # num arms"
   ]
  },
  {
   "cell_type": "markdown",
   "metadata": {},
   "source": [
    "# Présentation du problème"
   ]
  },
  {
   "cell_type": "code",
   "execution_count": 2,
   "metadata": {},
   "outputs": [],
   "source": [
    "class ArmBernoulli:\n",
    "    def __init__(self, p: float):\n",
    "        \"\"\"\n",
    "        Vaccine treatment following a Bernoulli law (mean is p and variance is p(1-p)\n",
    "        Args:\n",
    "             p (float): mean parameter\n",
    "             \n",
    "        >>> torch.random.manual_seed(random_state)        \n",
    "        >>> arm = ArmBernoulli(0.5)\n",
    "        >>> arm.sample(5)\n",
    "        tensor([ True, False,  True,  True,  True])\n",
    "        \"\"\"\n",
    "        self.immunity_rate = p\n",
    "\n",
    "    def sample(self, n: int = 1):\n",
    "        return torch.rand(n) < self.immunity_rate\n",
    "    \n",
    "    def __repr__(self):\n",
    "        return f'<ArmBernoulli p={self.immunity_rate}' \n",
    "\n",
    "def generate_arms(num_arms: int):\n",
    "    means = torch.rand(num_arms)\n",
    "    MAB = [ArmBernoulli(m) for m in means]\n",
    "    assert MAB[0].immunity_rate == means[0]\n",
    "    assert (MAB[0].sample(10) <= 1).all() and (MAB[0].sample(10) >= 0).all() \n",
    "    return MAB\n",
    "\n",
    "MAB = generate_arms(K)"
   ]
  },
  {
   "cell_type": "markdown",
   "metadata": {},
   "source": [
    "Ce TP reprend l'exemple du médecin présenté en cours.\n",
    "\n",
    "\n",
    "**Q1. Créez une fonction pour trouver $\\mu^*$ à partir d'un `MAB`. Comment est définie la récompense $R_k$ ? Que représente concrètement le regret dans le contexte de ce TP ?**"
   ]
  },
  {
   "cell_type": "code",
   "execution_count": 3,
   "metadata": {},
   "outputs": [
    {
     "name": "stdout",
     "output_type": "stream",
     "text": [
      "Best vaccine in MAB: 1\n",
      "Vaccine 0 has immunity rate 0.50\n",
      "Vaccine 1 has immunity rate 0.77\n",
      "Vaccine 2 has immunity rate 0.09\n",
      "Vaccine 3 has immunity rate 0.13\n",
      "Vaccine 4 has immunity rate 0.31\n"
     ]
    }
   ],
   "source": [
    "def best_vaccine_in_mab(mab):\n",
    "    # return the index of the best vaccine in the MAB\n",
    "    return np.array([vaccine.immunity_rate for vaccine in mab]).argmax()\n",
    "\n",
    "print(f\"Best vaccine in MAB: {best_vaccine_in_mab(MAB)}\")\n",
    "for i, arm in enumerate(MAB):\n",
    "        print(f\"Vaccine {i} has immunity rate {arm.immunity_rate.item():.2f}\")"
   ]
  },
  {
   "cell_type": "markdown",
   "metadata": {},
   "source": [
    "La récompense $R_k$ est définie selon la loi de Bernoulli, donc 1 (p) si c'est une réussite et 0 (1-p) si échec.\n",
    "\n",
    "Le regret représente la différence entre le fonctionnement théorique du vaccin (phase de d'exploration) et l'exploitation réelle de la chance d'immunisation."
   ]
  },
  {
   "cell_type": "markdown",
   "metadata": {},
   "source": [
    "**Note importante :** pour la suite, les résultats seront généralement réalisés avec 100 initialisations différentes du MAB (tous les MAB ont 5 vaccins mais des taux d'immunistation différent) pour réduire le bruit de simulation. Concrètement, on exécutera au moins 100x `generate_arms`.\n",
    "\n",
    "# I. Cas classique des bandits manchots "
   ]
  },
  {
   "cell_type": "markdown",
   "metadata": {
    "tags": []
   },
   "source": [
    "## I.a. Solution Gloutonne"
   ]
  },
  {
   "cell_type": "markdown",
   "metadata": {},
   "source": [
    "Le médecin fonctionne sur deux phases :\n",
    "\n",
    "1. **Exploration :** Le médecin calcule le taux d'immunisation empirique sur les N premiers patients en administrant le même nombre de fois chaque vaccin :\n",
    "\n",
    "$$\\hat{\\mu_i}[0\\rightarrow N] = \\frac{1}{T_i} \\sum_{k=0}^{N-1} \\chi_{v_k,i}R_k,$$\n",
    "\n",
    "avec $T_i = \\sum_{k=0}^{N-1} \\chi_{v_k,i}$.\n",
    "\n",
    "\n",
    "2. **Exploitation :** Le vaccin $v_i = \\arg\\max_j \\hat{\\mu_j}[0\\rightarrow N]$ est utilisé pour les M patients suivants.\n",
    "\n",
    "**Q2. Implémentez cette solution avec N = 50 et M = 500 et testez-la avec 100 MAB. On souhaite savoir si vous trouvez le vaccin optimal à l'issue d'une phase d'exploration. Quelle est l'espérance empirique de cette variable ? Et son écart-type ? Calculez de même l'espérance et l'écart-type du regret sur vos 100 simulations.**\n",
    "\n",
    "Pour rappel, le regret est défini par :\n",
    "\n",
    "$$r_n = n\\mu^* - \\sum_{k=0}^{n-1} R_k$$\n",
    "\n",
    "**Attention :** $n$ est le nombre total de patients, donc ici $N + M$."
   ]
  },
  {
   "cell_type": "code",
   "execution_count": 7,
   "metadata": {},
   "outputs": [],
   "source": [
    "Mab_list = [generate_arms(5) for _ in range(100)]\n",
    "N = 50\n",
    "M = 500"
   ]
  },
  {
   "cell_type": "code",
   "execution_count": 8,
   "metadata": {},
   "outputs": [
    {
     "name": "stdout",
     "output_type": "stream",
     "text": [
      "Espérance: 0.72\n",
      "Écart-type: 0.4489988864128729\n",
      "Espérance du regret: 32.195701599121094\n",
      "Écart-type du regret: 31.28544807434082\n"
     ]
    }
   ],
   "source": [
    "def exploration(n, mab):\n",
    "    R = np.array([0]*K)\n",
    "    for i, arm in enumerate(mab):\n",
    "        R[i] += arm.sample(n // K).sum()\n",
    "    return R\n",
    "\n",
    "def getBestVaccin(R, hist):\n",
    "    Ri = np.zeros(K)\n",
    "    for i in range(K):\n",
    "        Ri[i] = R[i] / hist[i]\n",
    "    return Ri.argmax()\n",
    "\n",
    "def exploitation(n,m, mab_list):\n",
    "    rates = []\n",
    "    regrets = []\n",
    "    for mab in mab_list:\n",
    "        # Phase d'exploration\n",
    "        R = exploration(n, mab)\n",
    "        # exploitation\n",
    "        hist = [n // K] * K        \n",
    "        bestVac= getBestVaccin(R, hist)\n",
    "        Mab_res = mab[bestVac].sample(m).sum()\n",
    "        R[bestVac] += Mab_res\n",
    "        hist[bestVac] += m\n",
    "        ### exploration success rate\n",
    "        list_immunity_rates = [i.immunity_rate for i in mab]\n",
    "        best_vac_from_immunity_rates = list_immunity_rates.index(max(list_immunity_rates))\n",
    "        success = (bestVac == best_vac_from_immunity_rates)\n",
    "        ### regret\n",
    "        regret = (n + m) * max(list_immunity_rates) - R.sum()\n",
    "\n",
    "        regrets.append(regret)\n",
    "        rates.append(success)\n",
    "\n",
    "    return regrets, rates\n",
    "\n",
    "regrets, rates = exploitation(N, M, Mab_list)\n",
    "\n",
    "mean_rates = np.mean(rates)\n",
    "std_rates = np.std(rates)\n",
    "mean_regret = np.mean(regrets)\n",
    "std_regret = np.std(regrets)\n",
    "\n",
    "print(f\"Espérance: {mean_rates}\")\n",
    "print(f\"Écart-type: {std_rates}\")\n",
    "print(f\"Espérance du regret: {mean_regret}\")\n",
    "print(f\"Écart-type du regret: {std_regret}\")"
   ]
  },
  {
   "cell_type": "markdown",
   "metadata": {},
   "source": [
    "**Q3. On étudie maintenant l'influence de la taille du training set $N$. On considère que N+M est une constante, puis on fait varier N entre K et M. Calculez le regret pour ces différentes tailles du training set  différents MAB et representez le regret moyen, le regret min et max (vous devriez trouver une courbe en U ou en V pour le regret moyen). Quelle est la taille optimale du training set ?**"
   ]
  },
  {
   "cell_type": "code",
   "execution_count": 29,
   "metadata": {},
   "outputs": [
    {
     "name": "stdout",
     "output_type": "stream",
     "text": [
      "min: 29.99459457397461, k: 55\n",
      "max: 180.77462768554688, k: 535\n",
      "mean: 96.17894744873047\n"
     ]
    },
    {
     "data": {
      "image/png": "[encoded data removed]",
      "text/plain": [
       "<Figure size 640x480 with 1 Axes>"
      ]
     },
     "metadata": {},
     "output_type": "display_data"
    }
   ],
   "source": [
    "def exploration(n, mab):\n",
    "    R = np.array([0]*K)\n",
    "    for i, arm in enumerate(mab):\n",
    "        R[i] += arm.sample(n // K).sum()\n",
    "    return R\n",
    "\n",
    "def getBestVaccin(R, hist):\n",
    "    Ri = np.zeros(K)\n",
    "    for i in range(K):\n",
    "        Ri[i] = R[i] / hist[i]\n",
    "    return Ri.argmax()\n",
    "\n",
    "def exploitation(n,m, mab_list):\n",
    "    rates = []\n",
    "    regrets = []\n",
    "    for mab in mab_list:\n",
    "        # Phase d'exploration\n",
    "        R = exploration(n, mab)\n",
    "        # exploitation\n",
    "        hist = [n // K] * K        \n",
    "        bestVac= getBestVaccin(R, hist)\n",
    "        Mab_res = mab[bestVac].sample(m).sum()\n",
    "        R[bestVac] += Mab_res\n",
    "        hist[bestVac] += m\n",
    "        ### regret\n",
    "        regret = (n + m) * max([i.immunity_rate for i in mab]) - R.sum()\n",
    "        regrets.append(regret)\n",
    "\n",
    "    return regrets\n",
    "\n",
    "m = N + M - K\n",
    "Mab_list = [generate_arms(K) for _ in range(100)]\n",
    "Mab_list_regrets = []\n",
    "for n in range(K,m, K):\n",
    "    regrets = exploitation(n, m - n, Mab_list)\n",
    "    Mab_list_regrets.append(np.mean(regrets))\n",
    "\n",
    "print(f'min: {min(Mab_list_regrets)}, k: {Mab_list_regrets.index(min(Mab_list_regrets)) * 5}')\n",
    "print(f'max: {max(Mab_list_regrets)}, k: {Mab_list_regrets.index(max(Mab_list_regrets)) * 5}')\n",
    "print(f'mean: {np.mean(Mab_list_regrets)}') \n",
    "\n",
    "plt.plot(range(K,m, K), Mab_list_regrets)\n",
    "plt.show()\n"
   ]
  },
  {
   "cell_type": "markdown",
   "metadata": {},
   "source": [
    "*[Ajoutez votre commentaire ici]*"
   ]
  },
  {
   "cell_type": "markdown",
   "metadata": {},
   "source": [
    "**Q4. On propose d'améliorer l'algorithme précédant en mettant à jour les taux d'immunisation empiriques $\\hat{\\mu}_i$ pendant la phase d'exploitation (algorithme *greedy*). Concrètement, à chaque nouvel patient, on lui administre le meilleur vaccin selon les stats. Notez vous une amélioration du regret ? Proposez un exemple où les taux d'immunisation du MAB ne changent rien.** "
   ]
  },
  {
   "cell_type": "code",
   "execution_count": 38,
   "metadata": {},
   "outputs": [
    {
     "name": "stdout",
     "output_type": "stream",
     "text": [
      "min: 1.1668620109558105, k: 0\n",
      "max: 127.26727294921875, k: 525\n",
      "mean: 56.02278518676758\n"
     ]
    },
    {
     "data": {
      "image/png": "[encoded data removed]",
      "text/plain": [
       "<Figure size 640x480 with 1 Axes>"
      ]
     },
     "metadata": {},
     "output_type": "display_data"
    }
   ],
   "source": [
    "def exploration(n, mab):\n",
    "    R = np.array([0]*K)\n",
    "    for i, arm in enumerate(mab):\n",
    "        R[i] += arm.sample(n // K).sum()\n",
    "    return R\n",
    "\n",
    "def getBestVaccin(R, hist):\n",
    "    Ri = np.zeros(K)\n",
    "    for i in range(K):\n",
    "        Ri[i] = R[i] / hist[i]\n",
    "    return Ri.argmax().item()\n",
    "\n",
    "def exploitation(n,m, mab_list):\n",
    "    regrets = []\n",
    "    for mab in mab_list:\n",
    "        # Phase d'exploration\n",
    "        R = exploration(n, mab)\n",
    "        # exploitation\n",
    "        list_immunity_rate = [i.immunity_rate.item() for i in mab]\n",
    "        bestVacGt = list_immunity_rate.index(max(list_immunity_rate))\n",
    "        hist = [n // K] * K        \n",
    "\n",
    "        ## regret\n",
    "        regret = n * list_immunity_rate[bestVacGt] - R.sum()\n",
    "        regrets.append(regret)\n",
    "\n",
    "        \n",
    "        regret_list = []\n",
    "        total_rewards = R.sum()\n",
    "\n",
    "        for i in range(1, m + 1):  \n",
    "            bestVac = getBestVaccin(R, hist)\n",
    "            Mab_res = mab[bestVac].sample()\n",
    "            hist[bestVac] += 1\n",
    "            R[bestVac] += Mab_res\n",
    "            total_rewards += Mab_res\n",
    "            # Mise à jour du regret à chaque étape\n",
    "            regret = (n + i) * list_immunity_rate[bestVacGt] - total_rewards\n",
    "            regret_list.append(regret)\n",
    "\n",
    "    return regret_list\n",
    "\n",
    "m = N + M - K\n",
    "Mab_list = [generate_arms(K) for _ in range(100)]\n",
    "Mab_list_regrets = []\n",
    "for n in range(K,m, K):\n",
    "    regrets = exploitation(n, m - n, Mab_list)\n",
    "    Mab_list_regrets.append(np.mean(regrets))\n",
    "\n",
    "print(f'min: {min(Mab_list_regrets)}, k: {Mab_list_regrets.index(min(Mab_list_regrets)) *5}')\n",
    "print(f'max: {max(Mab_list_regrets)}, k: {Mab_list_regrets.index(max(Mab_list_regrets)) *5}')\n",
    "print(f'mean: {np.mean(Mab_list_regrets)}') \n",
    "\n",
    "plt.plot(range(K,m, K), Mab_list_regrets)\n",
    "plt.show()"
   ]
  },
  {
   "cell_type": "markdown",
   "metadata": {},
   "source": [
    "*[Ajoutez votre commentaire ici]*"
   ]
  },
  {
   "cell_type": "markdown",
   "metadata": {},
   "source": [
    "**Q5. Nouvelle amélioration : à chaque nouveau patient, on choisit si on lui administre le meilleur vaccin avec une probabilité $\\epsilon$ ou un vaccin aléatoire ($p=1-\\epsilon$). Vérifiez si vous obtenez un meilleur résultat avec N = 0 ou N > 0. À votre avis, à quoi sert $\\epsilon$ ?** "
   ]
  },
  {
   "cell_type": "code",
   "execution_count": 44,
   "metadata": {},
   "outputs": [
    {
     "name": "stdout",
     "output_type": "stream",
     "text": [
      "min: 0.9321656227111816, k: 0\n",
      "max: 160.88360595703125, k: 535\n",
      "mean: 74.07453918457031\n"
     ]
    },
    {
     "data": {
      "image/png": "[encoded data removed]",
      "text/plain": [
       "<Figure size 640x480 with 1 Axes>"
      ]
     },
     "metadata": {},
     "output_type": "display_data"
    }
   ],
   "source": [
    "def exploration(n, mab):\n",
    "    R = np.array([0]*K)\n",
    "    for i, arm in enumerate(mab):\n",
    "        R[i] += arm.sample(n // K).sum()\n",
    "    return R\n",
    "\n",
    "def getBestVaccin(R, hist):\n",
    "    Ri = np.zeros(K)\n",
    "    for i in range(K):\n",
    "        Ri[i] = R[i] / hist[i]\n",
    "    return Ri.argmax().item()\n",
    "\n",
    "def exploitation(n,m, mab_list, epsilon):\n",
    "    regrets = []\n",
    "    for mab in mab_list:\n",
    "        # Phase d'exploration\n",
    "        R = exploration(n, mab)\n",
    "        # exploitation\n",
    "        list_immunity_rate = [i.immunity_rate.item() for i in mab]\n",
    "        bestVacGt = list_immunity_rate.index(max(list_immunity_rate))\n",
    "        hist = [n // K] * K        \n",
    "\n",
    "        ## regret\n",
    "        regret = n * list_immunity_rate[bestVacGt] - R.sum()\n",
    "        regrets.append(regret)\n",
    "\n",
    "        \n",
    "        regret_list = []\n",
    "        total_rewards = R.sum()\n",
    "\n",
    "        for i in range(1, m + 1):  \n",
    "            if (np.random.rand() <= epsilon):\n",
    "                bestVac = getBestVaccin(R, hist)\n",
    "            else:\n",
    "                bestVac = np.random.randint(K)\n",
    "            Mab_res = mab[bestVac].sample()\n",
    "            hist[bestVac] += 1\n",
    "            R[bestVac] += Mab_res\n",
    "            total_rewards += Mab_res\n",
    "            # Mise à jour du regret à chaque étape\n",
    "            regret = (n + i) * list_immunity_rate[bestVacGt] - total_rewards\n",
    "            regret_list.append(regret)\n",
    "\n",
    "    return regret_list\n",
    "\n",
    "m = N + M - K\n",
    "Mab_list = [generate_arms(K) for _ in range(100)]\n",
    "Mab_list_regrets = []\n",
    "for n in range(K,m, K):\n",
    "    regrets = exploitation(n, m - n, Mab_list, 0.7)\n",
    "    Mab_list_regrets.append(np.mean(regrets))\n",
    "\n",
    "print(f'min: {min(Mab_list_regrets)}, k: {Mab_list_regrets.index(min(Mab_list_regrets)) *5}')\n",
    "print(f'max: {max(Mab_list_regrets)}, k: {Mab_list_regrets.index(max(Mab_list_regrets)) *5}')\n",
    "print(f'mean: {np.mean(Mab_list_regrets)}') \n",
    "\n",
    "plt.plot(range(K,m, K), Mab_list_regrets)\n",
    "plt.show()"
   ]
  },
  {
   "cell_type": "markdown",
   "metadata": {},
   "source": [
    "*[Ajoutez votre commentaire ici]*"
   ]
  },
  {
   "cell_type": "markdown",
   "metadata": {
    "tags": []
   },
   "source": [
    "## I.b. Borne inférieure de Lai & Robbins [Lai et Robbins, 1985]"
   ]
  },
  {
   "cell_type": "markdown",
   "metadata": {},
   "source": [
    "Lai et Robbins [Lai et Robbins, 1985] considère une classe d'algorithmes $\\pi$ pour résoudre ce type de problèmes.\n",
    "\n",
    "Ils ont trouvé une borne inférieure sur les récompenses cumulées en valeur asymptotique :\n",
    "\n",
    "$$\\lim_{n\\rightarrow \\infty} \\inf_{\\pi} \\frac{\\sum_{k=0}^{n-1} R_k}{\\log n} \\geq \\sum_{i~\\text{tel que}~\\mu_i \\lt \\mu^*} \\frac{\\mu^∗−\\mu_i}{\\text{KL}(\\mu_i, \\mu^*)}  :=C(\\mu)$$\n",
    " \n",
    " avec $\\text{KL}(x, y) = x \\log(x/y) + (1 − x) \\log((1 − x)/(1 − y))$ (distance de Kullback-Leibler) et  $\\sum_{k=0}^{n-1} R_k$ la récompense obtenue sur $n$ patients.\n",
    " \n",
    " \n",
    "**Q6. Justifiez pourquoi on peut en déduire que le regret d'un algorithme raisonnable sera au pire logarithmique.**"
   ]
  },
  {
   "cell_type": "markdown",
   "metadata": {},
   "source": [
    "*[Ajoutez votre commentaire ici]*"
   ]
  },
  {
   "cell_type": "markdown",
   "metadata": {},
   "source": [
    "**Q7. Tracez le regret issu de la borne de Lai & Robbins et comparez le au regret obtenu avec l'algorithme glouton.**"
   ]
  },
  {
   "cell_type": "code",
   "execution_count": null,
   "metadata": {},
   "outputs": [],
   "source": []
  },
  {
   "cell_type": "markdown",
   "metadata": {},
   "source": [
    "*[Ajoutez votre commentaire ici]*"
   ]
  },
  {
   "cell_type": "markdown",
   "metadata": {},
   "source": [
    "## I.c. Upper Confidence Bounds"
   ]
  },
  {
   "cell_type": "markdown",
   "metadata": {},
   "source": [
    "Cet algorithme améliore la version précédente en ajoutant un biais lié à la fréquentation de chaque vaccin :\n",
    "\n",
    "$$\\bar{\\mu}_i = \\hat{\\mu}_i + \\sqrt{\\frac{C\\log{n}}{T_i}}$$,\n",
    "\n",
    "avec $C=2$.\n",
    "\n",
    "\n",
    "**Q8. Implémentez la modification de cet algorithme. Observez un intérêt à conserver $N > 0$ ? Et $\\epsilon < 1$ ? Expliquez pourquoi.**\n",
    "\n",
    "Dans la suite, on prendra $N = 0$ et $\\epsilon = 1$."
   ]
  },
  {
   "cell_type": "code",
   "execution_count": null,
   "metadata": {},
   "outputs": [],
   "source": []
  },
  {
   "cell_type": "markdown",
   "metadata": {},
   "source": [
    "*[Ajoutez votre commentaire ici]*"
   ]
  },
  {
   "cell_type": "markdown",
   "metadata": {},
   "source": [
    "**Q9. Tracez sous la forme d'une animation l'évolution du regret et l'évolution des taux d'immunisation empirique. Dans la figure de gauche, vous representerez $\\bar{\\mu}_i$ et $\\hat{\\mu}_i$.**"
   ]
  },
  {
   "cell_type": "code",
   "execution_count": null,
   "metadata": {},
   "outputs": [],
   "source": []
  },
  {
   "cell_type": "markdown",
   "metadata": {},
   "source": [
    "*[Ajoutez votre commentaire ici]*"
   ]
  },
  {
   "cell_type": "markdown",
   "metadata": {},
   "source": [
    "**Q10. Reprenez la question Q5 avec cette algorithme. Concluez sur l'utilité (ou l'inutilité) de la phase d'exploration. Comparez les performances d'UCB avec celles de l'algorithme glouton.**"
   ]
  },
  {
   "cell_type": "code",
   "execution_count": null,
   "metadata": {},
   "outputs": [],
   "source": []
  },
  {
   "cell_type": "markdown",
   "metadata": {},
   "source": [
    "*[Ajoutez votre commentaire ici]*"
   ]
  },
  {
   "cell_type": "markdown",
   "metadata": {},
   "source": [
    "**Q11. Testez différentes valeurs pour $C$ et trouvez sa valeur optimale expérimentalement.**"
   ]
  },
  {
   "cell_type": "code",
   "execution_count": null,
   "metadata": {},
   "outputs": [],
   "source": []
  },
  {
   "cell_type": "markdown",
   "metadata": {},
   "source": [
    "*[Ajoutez votre commentaire ici]*"
   ]
  },
  {
   "cell_type": "markdown",
   "metadata": {},
   "source": [
    "# Echantillonnage de Thomson\n",
    "\n",
    "Cet algorithme propose de modéliser la variable aléatoire de chaque vaccin avec une loi $\\beta$ dont les paramètres $a$ et $b$ correspondent au nombre de patients que le vaccin a immunisés (resp. non immunisés).\n",
    "\n",
    "Pour chaque patient, on tire un valeur aléatoire pour la loi $\\beta$ décrivant chaque vaccin, puis on choisit le vaccin avec la plus grande valeur tirée. "
   ]
  },
  {
   "cell_type": "markdown",
   "metadata": {},
   "source": [
    "**Q12. Implémentez cet algorithme. Conservez les deux phases exploration/exploitation décrites ci-dessus. En prenant les valeurs de $N$ et $M$ trouvées à la question Q5, quel regret obtenez-vous ? Faites l'expérience avec au moins 10 MAB différents (tous ayant 5 vaccins) afin de calculer la moyenne et l'écart-type du regret.**"
   ]
  },
  {
   "cell_type": "code",
   "execution_count": null,
   "metadata": {},
   "outputs": [],
   "source": []
  },
  {
   "cell_type": "markdown",
   "metadata": {},
   "source": [
    "*[Ajoutez votre commentaire ici]*"
   ]
  },
  {
   "cell_type": "markdown",
   "metadata": {},
   "source": [
    "**Q13. Reprenez la question Q4, mais cette fois-ci, vous representerez le taux d'immunisation empirique avec un [graphique en violon](https://en.wikipedia.org/wiki/Violin_plot) qui représente la loi beta associée à chaque vaccin.**"
   ]
  },
  {
   "cell_type": "code",
   "execution_count": null,
   "metadata": {},
   "outputs": [],
   "source": []
  },
  {
   "cell_type": "markdown",
   "metadata": {},
   "source": [
    "*[Ajoutez votre commentaire ici]*"
   ]
  },
  {
   "cell_type": "markdown",
   "metadata": {},
   "source": [
    "**Q14. Représentez son regret pour différentes tailles du training set (comme dans la Q5). Comparez le regret avec les autres algorithmes.**"
   ]
  },
  {
   "cell_type": "code",
   "execution_count": null,
   "metadata": {},
   "outputs": [],
   "source": []
  },
  {
   "cell_type": "markdown",
   "metadata": {},
   "source": [
    "*[Ajoutez votre commentaire ici]*"
   ]
  },
  {
   "cell_type": "markdown",
   "metadata": {},
   "source": [
    "# Conclusion\n",
    "\n",
    "**Q15. Calculez le regret des algorithmes glouton, UCB & Thomson lorsqu'il y a un grand nombre de vaccins disponibles (K=100) (on prendra N=100). Faites le lien avec la [malédiction de la dimension](https://fr.wikipedia.org/wiki/Fl%C3%A9au_de_la_dimension).**"
   ]
  },
  {
   "cell_type": "code",
   "execution_count": null,
   "metadata": {},
   "outputs": [],
   "source": []
  },
  {
   "cell_type": "markdown",
   "metadata": {},
   "source": [
    "*[Ajoutez votre commentaire ici]*"
   ]
  }
 ],
 "metadata": {
  "kernelspec": {
   "display_name": "Python 3 (ipykernel)",
   "language": "python",
   "name": "python3"
  },
  "language_info": {
   "codemirror_mode": {
    "name": "ipython",
    "version": 3
   },
   "file_extension": ".py",
   "mimetype": "text/x-python",
   "name": "python",
   "nbconvert_exporter": "python",
   "pygments_lexer": "ipython3",
   "version": "3.11.9"
  }
 },
 "nbformat": 4,
 "nbformat_minor": 4
}
