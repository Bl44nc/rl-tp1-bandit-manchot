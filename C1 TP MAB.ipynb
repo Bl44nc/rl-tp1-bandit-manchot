{
 "cells": [
  {
   "cell_type": "markdown",
   "metadata": {
    "tags": []
   },
   "source": [
    "# Introduction à l'apprentissage par renforcement\n",
    "# TP 1 - les manchots multi-bras\n",
    "\n",
    "1/4 de la note finale est liée à la mise en forme : \n",
    "\n",
    "* pensez à nettoyer les outputs inutiles (installation, messages de débuggage, ...)\n",
    "* soignez vos figures : les axes sont-ils faciles à comprendre ? L'échelle est adaptée ? \n",
    "* commentez vos résultats : vous attendiez-vous à les avoir ? Est-ce étonnant ? Faites le lien avec la théorie.\n",
    "\n",
    "Ce TP reprend l'exemple d'un médecin et de ses vaccins. Vous allez comparer plusieurs stratégies et trouver celle optimale.\n",
    "Un TP se fait seul ou en binôme. Aucun groupe de plus de 2 personnes. \n",
    "\n",
    "Vous allez rendre le TP depuis un lien GitHub avec ce notebook mais une version du rapport exportée en PDF & HTML. "
   ]
  },
  {
   "cell_type": "code",
   "execution_count": null,
   "metadata": {},
   "outputs": [],
   "source": [
    "# ! pip install matplotlib tqdm numpy ipympl opencv-python\n",
    "# !jupyter labextension install @jupyter-widgets/jupyterlab-manager\n",
    "# !jupyter labextension install jupyter-matplotlib"
   ]
  },
  {
   "cell_type": "code",
   "execution_count": 3,
   "metadata": {},
   "outputs": [],
   "source": [
    "%load_ext autoreload\n",
    "%autoreload 2\n",
    "%matplotlib inline \n",
    "\n",
    "import typing as t\n",
    "import math\n",
    "import torch\n",
    "import numpy as np\n",
    "from tqdm.auto import trange, tqdm\n",
    "import matplotlib.pyplot as plt\n",
    "from matplotlib.animation import FuncAnimation\n",
    "import matplotlib.animation as animation\n",
    "from matplotlib.backends.backend_agg import FigureCanvasAgg as FigureCanvas\n",
    "import cv2\n",
    "from IPython.display import display, clear_output\n",
    "\n",
    "torch.random.manual_seed(0)\n",
    "\n",
    "K = 5 # num arms"
   ]
  },
  {
   "cell_type": "markdown",
   "metadata": {},
   "source": [
    "# Présentation du problème"
   ]
  },
  {
   "cell_type": "code",
   "execution_count": 4,
   "metadata": {},
   "outputs": [],
   "source": [
    "class ArmBernoulli:\n",
    "    def __init__(self, p: float):\n",
    "        \"\"\"\n",
    "        Vaccine treatment following a Bernoulli law (mean is p and variance is p(1-p)\n",
    "        Args:\n",
    "             p (float): mean parameter\n",
    "             \n",
    "        >>> torch.random.manual_seed(random_state)        \n",
    "        >>> arm = ArmBernoulli(0.5)\n",
    "        >>> arm.sample(5)\n",
    "        tensor([ True, False,  True,  True,  True])\n",
    "        \"\"\"\n",
    "        self.immunity_rate = p\n",
    "\n",
    "    def sample(self, n: int = 1):\n",
    "        return torch.rand(n) < self.immunity_rate\n",
    "    \n",
    "    def __repr__(self):\n",
    "        return f'<ArmBernoulli p={self.immunity_rate}' \n",
    "\n",
    "def generate_arms(num_arms: int):\n",
    "    means = torch.rand(num_arms)\n",
    "    MAB = [ArmBernoulli(m) for m in means]\n",
    "    assert MAB[0].immunity_rate == means[0]\n",
    "    assert (MAB[0].sample(10) <= 1).all() and (MAB[0].sample(10) >= 0).all() \n",
    "    return MAB\n",
    "\n",
    "MAB = generate_arms(K)"
   ]
  },
  {
   "cell_type": "markdown",
   "metadata": {},
   "source": [
    "Ce TP reprend l'exemple du médecin présenté en cours.\n",
    "\n",
    "\n",
    "**Q1. Créez une fonction pour trouver $\\mu^*$ à partir d'un `MAB`. Comment est définie la récompense $R_k$ ? Que représente concrètement le regret dans le contexte de ce TP ?**"
   ]
  },
  {
   "cell_type": "code",
   "execution_count": 44,
   "metadata": {},
   "outputs": [
    {
     "name": "stdout",
     "output_type": "stream",
     "text": [
      "Best vaccine in MAB: 1,  with immunity rate 0.77\n",
      "Vaccine 0 has immunity rate 0.50\n",
      "Vaccine 1 has immunity rate 0.77\n",
      "Vaccine 2 has immunity rate 0.09\n",
      "Vaccine 3 has immunity rate 0.13\n",
      "Vaccine 4 has immunity rate 0.31\n"
     ]
    }
   ],
   "source": [
    "def best_vaccine_in_mab(mab):\n",
    "    # return the index of the best vaccine in the MAB\n",
    "    return np.array([vaccine.immunity_rate for vaccine in mab]).argmax()\n",
    "\n",
    "print(f\"Best vaccine in MAB: {best_vaccine_in_mab(MAB)},  with immunity rate {MAB[best_vaccine_in_mab(MAB)].immunity_rate.item():.2f}\")\n",
    "for i, arm in enumerate(MAB):\n",
    "        print(f\"Vaccine {i} has immunity rate {arm.immunity_rate.item():.2f}\")"
   ]
  },
  {
   "cell_type": "markdown",
   "metadata": {},
   "source": [
    "La récompense $R_k$ est définie selon la loi de Bernoulli, donc 1 (p) si c'est une réussite et 0 (1-p) si échec.\n",
    "\n",
    "Le regret représente la différence entre le fonctionnement théorique du vaccin (phase de d'exploration) et l'exploitation réelle de la chance d'immunisation."
   ]
  },
  {
   "cell_type": "markdown",
   "metadata": {},
   "source": [
    "**Note importante :** pour la suite, les résultats seront généralement réalisés avec 100 initialisations différentes du MAB (tous les MAB ont 5 vaccins mais des taux d'immunistation différent) pour réduire le bruit de simulation. Concrètement, on exécutera au moins 100x `generate_arms`.\n",
    "\n",
    "# I. Cas classique des bandits manchots "
   ]
  },
  {
   "cell_type": "markdown",
   "metadata": {
    "tags": []
   },
   "source": [
    "## I.a. Solution Gloutonne"
   ]
  },
  {
   "cell_type": "markdown",
   "metadata": {},
   "source": [
    "Le médecin fonctionne sur deux phases :\n",
    "\n",
    "1. **Exploration :** Le médecin calcule le taux d'immunisation empirique sur les N premiers patients en administrant le même nombre de fois chaque vaccin :\n",
    "\n",
    "$$\\hat{\\mu_i}[0\\rightarrow N] = \\frac{1}{T_i} \\sum_{k=0}^{N-1} \\chi_{v_k,i}R_k,$$\n",
    "\n",
    "avec $T_i = \\sum_{k=0}^{N-1} \\chi_{v_k,i}$.\n",
    "\n",
    "\n",
    "2. **Exploitation :** Le vaccin $v_i = \\arg\\max_j \\hat{\\mu_j}[0\\rightarrow N]$ est utilisé pour les M patients suivants.\n",
    "\n",
    "**Q2. Implémentez cette solution avec N = 50 et M = 500 et testez-la avec 100 MAB. On souhaite savoir si vous trouvez le vaccin optimal à l'issue d'une phase d'exploration. Quelle est l'espérance empirique de cette variable ? Et son écart-type ? Calculez de même l'espérance et l'écart-type du regret sur vos 100 simulations.**\n",
    "\n",
    "Pour rappel, le regret est défini par :\n",
    "\n",
    "$$r_n = n\\mu^* - \\sum_{k=0}^{n-1} R_k$$\n",
    "\n",
    "**Attention :** $n$ est le nombre total de patients, donc ici $N + M$."
   ]
  },
  {
   "cell_type": "code",
   "execution_count": 7,
   "metadata": {},
   "outputs": [],
   "source": [
    "Mab_list = [generate_arms(5) for _ in range(100)]\n",
    "N = 50\n",
    "M = 500"
   ]
  },
  {
   "cell_type": "code",
   "execution_count": 9,
   "metadata": {},
   "outputs": [
    {
     "name": "stdout",
     "output_type": "stream",
     "text": [
      "Espérance: 0.77\n",
      "Écart-type: 0.4208325082500163\n",
      "Espérance du regret: 27.029726028442383\n",
      "Écart-type du regret: 26.400968551635742\n"
     ]
    }
   ],
   "source": [
    "def exploration(n, mab):\n",
    "    R = np.zeros(K)\n",
    "    for i, arm in enumerate(mab):\n",
    "        R[i] = arm.sample(n // K).sum()\n",
    "    return R\n",
    "\n",
    "def getBestVaccin(R, hist):\n",
    "    Ri = np.zeros(K)\n",
    "    for i in range(K):\n",
    "        Ri[i] = R[i] / hist[i]\n",
    "    return Ri.argmax()\n",
    "\n",
    "def exploitation(n,m, mab_list):\n",
    "    rates = []\n",
    "    regrets = []\n",
    "    for mab in mab_list:\n",
    "        # Phase d'exploration\n",
    "        R = exploration(n, mab)\n",
    "        # exploitation\n",
    "        hist = [n // K] * K        \n",
    "        bestVac= getBestVaccin(R, hist)\n",
    "        Mab_res = mab[bestVac].sample(m).sum()\n",
    "        R[bestVac] += Mab_res\n",
    "        hist[bestVac] += m\n",
    "        ### exploration success rate\n",
    "        list_immunity_rates = [i.immunity_rate for i in mab]\n",
    "        best_vac_from_immunity_rates = best_vaccine_in_mab(mab)\n",
    "        success = (bestVac == best_vac_from_immunity_rates)\n",
    "        ### regret\n",
    "        regret = (n + m) * max(list_immunity_rates) - R.sum()\n",
    "\n",
    "        regrets.append(regret)\n",
    "        rates.append(success)\n",
    "\n",
    "    return regrets, rates\n",
    "\n",
    "regrets, rates = exploitation(N, M, Mab_list)\n",
    "\n",
    "mean_rates = np.mean(rates)\n",
    "std_rates = np.std(rates)\n",
    "mean_regret = np.mean(regrets)\n",
    "std_regret = np.std(regrets)\n",
    "\n",
    "print(f\"Espérance: {mean_rates}\")\n",
    "print(f\"Écart-type: {std_rates}\")\n",
    "print(f\"Espérance du regret: {mean_regret}\")\n",
    "print(f\"Écart-type du regret: {std_regret}\")"
   ]
  },
  {
   "cell_type": "markdown",
   "metadata": {},
   "source": [
    "**Q3. On étudie maintenant l'influence de la taille du training set $N$. On considère que N+M est une constante, puis on fait varier N entre K et M. Calculez le regret pour ces différentes tailles du training set  différents MAB et representez le regret moyen, le regret min et max (vous devriez trouver une courbe en U ou en V pour le regret moyen). Quelle est la taille optimale du training set ?**"
   ]
  },
  {
   "cell_type": "code",
   "execution_count": 17,
   "metadata": {},
   "outputs": [
    {
     "name": "stdout",
     "output_type": "stream",
     "text": [
      "min: 30.03, k: 35\n",
      "max: 172.65, k: 540\n",
      "mean: 93.09\n"
     ]
    },
    {
     "data": {
      "image/png": "[encoded data removed]",
      "text/plain": [
       "<Figure size 640x480 with 1 Axes>"
      ]
     },
     "metadata": {},
     "output_type": "display_data"
    }
   ],
   "source": [
    "def exploitation(n,m, mab_list):\n",
    "    regrets = []\n",
    "    for mab in mab_list:\n",
    "        # Phase d'exploration\n",
    "        R = exploration(n, mab)\n",
    "        # exploitation\n",
    "        hist = [n // K] * K        \n",
    "        bestVac= getBestVaccin(R, hist)\n",
    "        Mab_res = mab[bestVac].sample(m).sum()\n",
    "        R[bestVac] += Mab_res\n",
    "        hist[bestVac] += m\n",
    "        ### regret\n",
    "        regret = (n + m) * max([i.immunity_rate for i in mab]) - R.sum()\n",
    "        regrets.append(regret)\n",
    "\n",
    "    return regrets\n",
    "\n",
    "m = N + M\n",
    "Mab_list = [generate_arms(K) for _ in range(100)]\n",
    "Mab_list_regrets = []\n",
    "for n in range(K,m, K):\n",
    "    regrets = exploitation(n, m - n, Mab_list)\n",
    "    Mab_list_regrets.append(np.mean(regrets))\n",
    "\n",
    "print(f'min: {min(Mab_list_regrets):.2f}, k: {Mab_list_regrets.index(min(Mab_list_regrets)) * 5}')\n",
    "print(f'max: {max(Mab_list_regrets):.2f}, k: {Mab_list_regrets.index(max(Mab_list_regrets)) * 5}')\n",
    "print(f'mean: {np.mean(Mab_list_regrets):.2f}') \n",
    "\n",
    "plt.plot(range(K,m, K), Mab_list_regrets)\n",
    "plt.show()\n"
   ]
  },
  {
   "cell_type": "markdown",
   "metadata": {},
   "source": [
    "*[Ajoutez votre commentaire ici]*"
   ]
  },
  {
   "cell_type": "markdown",
   "metadata": {},
   "source": [
    "**Q4. On propose d'améliorer l'algorithme précédant en mettant à jour les taux d'immunisation empiriques $\\hat{\\mu}_i$ pendant la phase d'exploitation (algorithme *greedy*). Concrètement, à chaque nouvel patient, on lui administre le meilleur vaccin selon les stats. Notez vous une amélioration du regret ? Proposez un exemple où les taux d'immunisation du MAB ne changent rien.** "
   ]
  },
  {
   "cell_type": "code",
   "execution_count": 50,
   "metadata": {},
   "outputs": [
    {
     "name": "stdout",
     "output_type": "stream",
     "text": [
      "N = 50, M = 500 regret: 22.74\n"
     ]
    }
   ],
   "source": [
    "def exploitation(n,m, mab_list):\n",
    "    regrets = []\n",
    "    for mab in mab_list:\n",
    "        # Phase d'exploration\n",
    "        R = exploration(n, mab)\n",
    "        # exploitation\n",
    "        list_immunity_rate = [i.immunity_rate.item() for i in mab]\n",
    "        bestVacGt = list_immunity_rate.index(max(list_immunity_rate))\n",
    "        hist = [n // K] * K\n",
    "\n",
    "        total_rewards = R.sum()\n",
    "        for _ in range(1, m + 1):  \n",
    "            bestVac = getBestVaccin(R, hist)\n",
    "            Mab_res = mab[bestVac].sample()\n",
    "            hist[bestVac] += 1\n",
    "            R[bestVac] += Mab_res\n",
    "            total_rewards += Mab_res\n",
    "            # Mise à jour du regret à chaque étape\n",
    "        regret = (n + m) * list_immunity_rate[bestVacGt] - total_rewards\n",
    "        regrets.append(regret)\n",
    "    return regrets\n",
    "\n",
    "Mab_list = [generate_arms(K) for _ in range(100)]\n",
    "regrets = exploitation(N, M, Mab_list)\n",
    "\n",
    "print(f'N = {N}, M = {M} regret: {np.mean(regrets):.2f}')"
   ]
  },
  {
   "cell_type": "markdown",
   "metadata": {},
   "source": [
    "*[Ajoutez votre commentaire ici]*"
   ]
  },
  {
   "cell_type": "markdown",
   "metadata": {},
   "source": [
    "**Q5. Nouvelle amélioration : à chaque nouveau patient, on choisit si on lui administre le meilleur vaccin avec une probabilité $\\epsilon$ ou un vaccin aléatoire ($p=1-\\epsilon$). Vérifiez si vous obtenez un meilleur résultat avec N = 0 ou N > 0. À votre avis, à quoi sert $\\epsilon$ ?** "
   ]
  },
  {
   "cell_type": "code",
   "execution_count": 52,
   "metadata": {},
   "outputs": [
    {
     "name": "stderr",
     "output_type": "stream",
     "text": [
      "C:\\Users\\gatig\\AppData\\Local\\Temp\\ipykernel_13376\\1431928959.py:10: RuntimeWarning: invalid value encountered in scalar divide\n",
      "  Ri[i] = R[i] / hist[i]\n"
     ]
    },
    {
     "name": "stdout",
     "output_type": "stream",
     "text": [
      "N = 0, regret = 58.82\n",
      "N > 0, regret = 66.57\n"
     ]
    }
   ],
   "source": [
    "def exploitation(n,m, mab_list, epsilon):\n",
    "    regrets = []\n",
    "    for mab in mab_list:\n",
    "        # Phase d'exploration\n",
    "        R = exploration(n, mab)\n",
    "        # exploitation\n",
    "        list_immunity_rate = [i.immunity_rate.item() for i in mab]\n",
    "        bestVacGt = list_immunity_rate.index(max(list_immunity_rate))\n",
    "        hist = [n // K] * K        \n",
    "        \n",
    "        total_rewards = R.sum()\n",
    "\n",
    "        for i in range(1, m + 1):  \n",
    "            if (np.random.rand() <= epsilon):\n",
    "                bestVac = getBestVaccin(R, hist)\n",
    "            else:\n",
    "                bestVac = np.random.randint(K)\n",
    "            Mab_res = mab[bestVac].sample()\n",
    "            hist[bestVac] += 1\n",
    "            R[bestVac] += Mab_res\n",
    "            total_rewards += Mab_res\n",
    "            # Mise à jour du regret à chaque étape\n",
    "        regret = (n + i) * list_immunity_rate[bestVacGt] - total_rewards\n",
    "        regrets.append(regret)\n",
    "\n",
    "    return regrets\n",
    "\n",
    "Mab_list = [generate_arms(K) for _ in range(100)]\n",
    "Mab_list_regrets = []\n",
    "\n",
    "regrets_N = exploitation(N, M, Mab_list, 0.7)\n",
    "regrets_0 = exploitation(0, M + N, Mab_list, 0.7)\n",
    "\n",
    "print(f'N = 0, regret = {np.mean(regrets_0):.2f}')\n",
    "print(f'N > 0, regret = {np.mean(regrets_N):.2f}')"
   ]
  },
  {
   "cell_type": "markdown",
   "metadata": {},
   "source": [
    "*[Ajoutez votre commentaire ici]*"
   ]
  },
  {
   "cell_type": "markdown",
   "metadata": {
    "tags": []
   },
   "source": [
    "## I.b. Borne inférieure de Lai & Robbins [Lai et Robbins, 1985]"
   ]
  },
  {
   "cell_type": "markdown",
   "metadata": {},
   "source": [
    "Lai et Robbins [Lai et Robbins, 1985] considère une classe d'algorithmes $\\pi$ pour résoudre ce type de problèmes.\n",
    "\n",
    "Ils ont trouvé une borne inférieure sur les récompenses cumulées en valeur asymptotique :\n",
    "\n",
    "$$\\lim_{n\\rightarrow \\infty} \\inf_{\\pi} \\frac{\\sum_{k=0}^{n-1} R_k}{\\log n} \\geq \\sum_{i~\\text{tel que}~\\mu_i \\lt \\mu^*} \\frac{\\mu^∗−\\mu_i}{\\text{KL}(\\mu_i, \\mu^*)}  :=C(\\mu)$$\n",
    " \n",
    " avec $\\text{KL}(x, y) = x \\log(x/y) + (1 − x) \\log((1 − x)/(1 − y))$ (distance de Kullback-Leibler) et  $\\sum_{k=0}^{n-1} R_k$ la récompense obtenue sur $n$ patients.\n",
    " \n",
    " \n",
    "**Q6. Justifiez pourquoi on peut en déduire que le regret d'un algorithme raisonnable sera au pire logarithmique.**"
   ]
  },
  {
   "cell_type": "markdown",
   "metadata": {},
   "source": [
    "*[Ajoutez votre commentaire ici]*"
   ]
  },
  {
   "cell_type": "markdown",
   "metadata": {},
   "source": [
    "**Q7. Tracez le regret issu de la borne de Lai & Robbins et comparez le au regret obtenu avec l'algorithme glouton.**"
   ]
  },
  {
   "cell_type": "code",
   "execution_count": null,
   "metadata": {},
   "outputs": [],
   "source": []
  },
  {
   "cell_type": "markdown",
   "metadata": {},
   "source": [
    "*[Ajoutez votre commentaire ici]*"
   ]
  },
  {
   "cell_type": "markdown",
   "metadata": {},
   "source": [
    "## I.c. Upper Confidence Bounds"
   ]
  },
  {
   "cell_type": "markdown",
   "metadata": {},
   "source": [
    "Cet algorithme améliore la version précédente en ajoutant un biais lié à la fréquentation de chaque vaccin :\n",
    "\n",
    "$$\\bar{\\mu}_i = \\hat{\\mu}_i + \\sqrt{\\frac{C\\log{n}}{T_i}}$$,\n",
    "\n",
    "avec $C=2$."
   ]
  },
  {
   "cell_type": "markdown",
   "metadata": {},
   "source": [
    "\n",
    "\n",
    "**Q8. Implémentez la modification de cet algorithme. Observez un intérêt à conserver $N > 0$ ? Et $\\epsilon < 1$ ? Expliquez pourquoi.**\n",
    "\n",
    "Dans la suite, on prendra $N = 0$ et $\\epsilon = 1$."
   ]
  },
  {
   "cell_type": "code",
   "execution_count": 55,
   "metadata": {},
   "outputs": [
    {
     "data": {
      "image/png": "[encoded data removed]",
      "text/plain": [
       "<Figure size 640x480 with 1 Axes>"
      ]
     },
     "metadata": {},
     "output_type": "display_data"
    }
   ],
   "source": [
    "def getBestVaccinWithBiais(R, hist, C=2):\n",
    "    Ri = np.zeros(K)\n",
    "    for i in range(K):\n",
    "        if hist[i] != 0:\n",
    "            Ri[i] = R[i] / hist[i] + math.sqrt(C * math.log(N) / hist[i])\n",
    "    return Ri.argmax()\n",
    "\n",
    "def exploitation(n,m, mab_list, epsilon):\n",
    "    regrets = []\n",
    "    for mab in mab_list:\n",
    "        # Phase d'exploration\n",
    "        R = exploration(n, mab)\n",
    "        # exploitation\n",
    "        list_immunity_rate = [i.immunity_rate.item() for i in mab]\n",
    "        bestVacGt = list_immunity_rate.index(max(list_immunity_rate))\n",
    "        hist = [n // K] * K\n",
    "        \n",
    "        total_rewards = R.sum()\n",
    "        for i in range(1, m + 1):  \n",
    "            if (np.random.rand() <= epsilon):\n",
    "                bestVac = getBestVaccinWithBiais(R, hist)\n",
    "            else:\n",
    "                bestVac = np.random.randint(K)\n",
    "            Mab_res = mab[bestVac].sample()\n",
    "            hist[bestVac] += 1\n",
    "            R[bestVac] += Mab_res\n",
    "            total_rewards += Mab_res\n",
    "            # Mise à jour du regret à chaque étape\n",
    "        regret = (n + i) * list_immunity_rate[bestVacGt] - total_rewards\n",
    "        regrets.append(regret)\n",
    "\n",
    "    return regrets\n",
    "\n",
    "Mab_list = [generate_arms(K) for _ in range(100)]\n",
    "Mab_list_regrets = []\n",
    "\n",
    "# Initialisation des listes pour chaque epsilon\n",
    "m = N + M\n",
    "borneN = [0,80]\n",
    "epsilons = [0.1, 0.3, 0.5, 0.7, 0.9]\n",
    "n_values = range(borneN[0], borneN[1], K)  # borneN et K doivent être définis\n",
    "Mab_list_regrets = {epsilon: [] for epsilon in epsilons}  # Dictionnaire pour chaque epsilon\n",
    "\n",
    "# Boucle pour ajouter les regrets pour chaque epsilon (comme dans votre exemple)\n",
    "for n in n_values:\n",
    "    for epsilon in epsilons:\n",
    "        regrets = exploitation(n, m - n, Mab_list, epsilon)\n",
    "        Mab_list_regrets[epsilon].append(np.mean(regrets))\n",
    "\n",
    "# Tracer les résultats\n",
    "for epsilon in epsilons:\n",
    "    plt.plot(n_values, Mab_list_regrets[epsilon], marker='o', linestyle='-', label=f'epsilon={epsilon}')\n",
    "\n",
    "plt.title('Évolution des regrets moyens pour différentes valeurs de epsilon')\n",
    "plt.xlabel('Valeurs de N')\n",
    "plt.ylabel('Regrets moyens')\n",
    "plt.legend()  # Ajoute une légende pour chaque courbe\n",
    "plt.grid(True)\n",
    "plt.show()"
   ]
  },
  {
   "cell_type": "markdown",
   "metadata": {},
   "source": [
    "*[Ajoutez votre commentaire ici]*"
   ]
  },
  {
   "cell_type": "markdown",
   "metadata": {},
   "source": [
    "**Q9. Tracez sous la forme d'une animation l'évolution du regret et l'évolution des taux d'immunisation empirique. Dans la figure de gauche, vous representerez $\\bar{\\mu}_i$ et $\\hat{\\mu}_i$.**"
   ]
  },
  {
   "cell_type": "code",
   "execution_count": 56,
   "metadata": {},
   "outputs": [
    {
     "name": "stderr",
     "output_type": "stream",
     "text": [
      "C:\\Users\\gatig\\AppData\\Local\\Temp\\ipykernel_13376\\3510001870.py:34: RuntimeWarning: invalid value encountered in divide\n",
      "  empirical_rate = R / hist\n",
      "C:\\Users\\gatig\\AppData\\Local\\Temp\\ipykernel_13376\\3510001870.py:37: RuntimeWarning: invalid value encountered in divide\n",
      "  empirical_rate_ = R / hist + math.sqrt(C * math.log(N) / hist)\n"
     ]
    },
    {
     "ename": "ValueError",
     "evalue": "math domain error",
     "output_type": "error",
     "traceback": [
      "\u001b[1;31m---------------------------------------------------------------------------\u001b[0m",
      "\u001b[1;31mValueError\u001b[0m                                Traceback (most recent call last)",
      "Cell \u001b[1;32mIn[56], line 53\u001b[0m\n\u001b[0;32m     51\u001b[0m M \u001b[38;5;241m=\u001b[39m \u001b[38;5;241m550\u001b[39m\n\u001b[0;32m     52\u001b[0m epsilon \u001b[38;5;241m=\u001b[39m \u001b[38;5;241m1\u001b[39m\n\u001b[1;32m---> 53\u001b[0m regrets, empirical_rates_, empiracl_rates \u001b[38;5;241m=\u001b[39m \u001b[43mexploitation\u001b[49m\u001b[43m(\u001b[49m\u001b[43mN\u001b[49m\u001b[43m,\u001b[49m\u001b[43m \u001b[49m\u001b[43mM\u001b[49m\u001b[43m,\u001b[49m\u001b[43m \u001b[49m\u001b[43mMab_list\u001b[49m\u001b[43m,\u001b[49m\u001b[43m \u001b[49m\u001b[43mepsilon\u001b[49m\u001b[43m)\u001b[49m\n",
      "Cell \u001b[1;32mIn[56], line 37\u001b[0m, in \u001b[0;36mexploitation\u001b[1;34m(n, m, mab_list, epsilon, C)\u001b[0m\n\u001b[0;32m     34\u001b[0m     empirical_rate \u001b[38;5;241m=\u001b[39m R \u001b[38;5;241m/\u001b[39m hist\n\u001b[0;32m     35\u001b[0m     rate_list\u001b[38;5;241m.\u001b[39mappend(empirical_rate)\n\u001b[1;32m---> 37\u001b[0m     empirical_rate_ \u001b[38;5;241m=\u001b[39m R \u001b[38;5;241m/\u001b[39m hist \u001b[38;5;241m+\u001b[39m math\u001b[38;5;241m.\u001b[39msqrt(C \u001b[38;5;241m*\u001b[39m \u001b[43mmath\u001b[49m\u001b[38;5;241;43m.\u001b[39;49m\u001b[43mlog\u001b[49m\u001b[43m(\u001b[49m\u001b[43mN\u001b[49m\u001b[43m)\u001b[49m \u001b[38;5;241m/\u001b[39m hist)\n\u001b[0;32m     38\u001b[0m     rate_list_\u001b[38;5;241m.\u001b[39mappend(empirical_rate_)\n\u001b[0;32m     40\u001b[0m regrets\u001b[38;5;241m.\u001b[39mappend(regret_list)\n",
      "\u001b[1;31mValueError\u001b[0m: math domain error"
     ]
    }
   ],
   "source": [
    "def exploitation(n,m, mab_list, epsilon, C=2):\n",
    "    regrets = []\n",
    "    empirical_rates_ = []\n",
    "    empirical_rates = []\n",
    "    for mab in mab_list:\n",
    "        regret_list = []\n",
    "        rate_list = []\n",
    "        rate_list_ = []\n",
    "        # Phase d'exploration\n",
    "        R = exploration(n, mab)\n",
    "        if n > 0:\n",
    "            regret = n * max([i.immunity_rate for i in mab]) - R.sum()\n",
    "            regret_list.append(regret)\n",
    "        # exploitation\n",
    "        list_immunity_rate = [i.immunity_rate.item() for i in mab]\n",
    "        bestVacGt = list_immunity_rate.index(max(list_immunity_rate))\n",
    "        hist = [n // K] * K\n",
    "    \n",
    "        total_rewards = R.sum()\n",
    "\n",
    "        for i in range(1, m + 1):  \n",
    "            if (np.random.rand() <= epsilon):\n",
    "                bestVac = getBestVaccinWithBiais(R, hist)\n",
    "            else:\n",
    "                bestVac = np.random.randint(K)\n",
    "            Mab_res = mab[bestVac].sample()\n",
    "            hist[bestVac] += 1\n",
    "            R[bestVac] += Mab_res\n",
    "            total_rewards += Mab_res\n",
    "            # Mise à jour du regret à chaque étape\n",
    "            regret = (n + i) * list_immunity_rate[bestVacGt] - total_rewards\n",
    "            regret_list.append(regret)\n",
    "\n",
    "            empirical_rate = R / hist\n",
    "            rate_list.append(empirical_rate)\n",
    "            empirical_rates_ = R.apply(lambda x: x / hist + math.sqrt(C * math.log(N) / hist))\n",
    "            empirical_rate_ = R / hist + math.sqrt(C * math.log(N) / hist)\n",
    "            rate_list_.append(empirical_rate_)\n",
    "        \n",
    "        regrets.append(regret_list)\n",
    "        empirical_rates.append(rate_list)\n",
    "        empirical_rates_.append(rate_list_)\n",
    "    return regret_list, empirical_rates_, empirical_rates\n",
    "\n",
    "Mab_list = [generate_arms(K) for _ in range(100)]\n",
    "Mab_list_regrets = []\n",
    "\n",
    "# Initialisation des listes pour chaque epsilon\n",
    "\n",
    "N = 0\n",
    "M = 550\n",
    "epsilon = 1\n",
    "regrets, empirical_rates_, empiracl_rates = exploitation(N, M, Mab_list, epsilon)"
   ]
  },
  {
   "cell_type": "code",
   "execution_count": null,
   "metadata": {},
   "outputs": [],
   "source": [
    "# Debugging: Print lengths and contents of data\n",
    "print(f\"Length of empirical_rates: {len(empirical_rates[0])}\")\n",
    "print(f\"Length of regrets: {len(regrets[0])}\")\n",
    "print(f\"Sample empirical rate: {empirical_rates[0][0]}\")\n",
    "print(f\"Sample regret: {regrets[0][0]}\")\n",
    "\n",
    "# Création de la figure et des sous-figures\n",
    "fig, (ax1, ax2) = plt.subplots(1, 2, figsize=(12, 6))\n",
    "\n",
    "# Graphique à gauche pour les taux d'immunisation empiriques\n",
    "bars = ax1.bar(range(5), [0]*5, color='b')\n",
    "ax1.set_ylim(0, 1)\n",
    "ax1.set_title('Taux d\\'immunisation empirique')\n",
    "ax1.set_xlabel('Vaccins')\n",
    "ax1.set_ylabel('Taux d\\'immunisation empirique')\n",
    "\n",
    "# Graphique à droite pour le regret au fil du temps\n",
    "line, = ax2.plot([], [], lw=2, color='r')\n",
    "ax2.set_xlim(0, 500)\n",
    "ax2.set_ylim(0, max(max(r) for r in regrets))\n",
    "ax2.set_title('Regret au fil du temps')\n",
    "ax2.set_xlabel('Patients')\n",
    "ax2.set_ylabel('Regret')\n",
    "\n",
    "def init():\n",
    "    \"\"\"Initialiser l'animation avec des données vides.\"\"\"\n",
    "    for bar in bars:\n",
    "        bar.set_height(0)\n",
    "    line.set_data([], [])\n",
    "    return bars, line\n",
    "\n",
    "def update(frame):\n",
    "    \"\"\"Mettre à jour les barres et la courbe de regret à chaque frame (patient).\"\"\"\n",
    "    # Mise à jour des taux d'immunisation empiriques\n",
    "    current_emp_rates = empirical_rates[0][frame]\n",
    "    for bar, rate in zip(bars, current_emp_rates):\n",
    "        bar.set_height(rate)\n",
    "    \n",
    "    # Mise à jour du regret\n",
    "    current_regrets = regrets[0][:frame]\n",
    "    line.set_data(range(frame), current_regrets)\n",
    "    \n",
    "    return bars, line\n",
    "\n",
    "# Création de l'animation\n",
    "ani = FuncAnimation(fig, update, frames=range(len(empirical_rates[0])), init_func=init, interval=100)\n",
    "\n",
    "plt.tight_layout()\n",
    "plt.show()\n"
   ]
  },
  {
   "cell_type": "markdown",
   "metadata": {},
   "source": [
    "*[Ajoutez votre commentaire ici]*"
   ]
  },
  {
   "cell_type": "markdown",
   "metadata": {},
   "source": [
    "**Q10. Reprenez la question Q5 avec cette algorithme. Concluez sur l'utilité (ou l'inutilité) de la phase d'exploration. Comparez les performances d'UCB avec celles de l'algorithme glouton.**"
   ]
  },
  {
   "cell_type": "code",
   "execution_count": null,
   "metadata": {},
   "outputs": [],
   "source": []
  },
  {
   "cell_type": "markdown",
   "metadata": {},
   "source": [
    "*[Ajoutez votre commentaire ici]*"
   ]
  },
  {
   "cell_type": "markdown",
   "metadata": {},
   "source": [
    "**Q11. Testez différentes valeurs pour $C$ et trouvez sa valeur optimale expérimentalement.**"
   ]
  },
  {
   "cell_type": "code",
   "execution_count": null,
   "metadata": {},
   "outputs": [],
   "source": []
  },
  {
   "cell_type": "markdown",
   "metadata": {},
   "source": [
    "*[Ajoutez votre commentaire ici]*"
   ]
  },
  {
   "cell_type": "markdown",
   "metadata": {},
   "source": [
    "# Echantillonnage de Thomson\n",
    "\n",
    "Cet algorithme propose de modéliser la variable aléatoire de chaque vaccin avec une loi $\\beta$ dont les paramètres $a$ et $b$ correspondent au nombre de patients que le vaccin a immunisés (resp. non immunisés).\n",
    "\n",
    "Pour chaque patient, on tire un valeur aléatoire pour la loi $\\beta$ décrivant chaque vaccin, puis on choisit le vaccin avec la plus grande valeur tirée. "
   ]
  },
  {
   "cell_type": "markdown",
   "metadata": {},
   "source": [
    "**Q12. Implémentez cet algorithme. Conservez les deux phases exploration/exploitation décrites ci-dessus. En prenant les valeurs de $N$ et $M$ trouvées à la question Q5, quel regret obtenez-vous ? Faites l'expérience avec au moins 10 MAB différents (tous ayant 5 vaccins) afin de calculer la moyenne et l'écart-type du regret.**"
   ]
  },
  {
   "cell_type": "code",
   "execution_count": null,
   "metadata": {},
   "outputs": [],
   "source": []
  },
  {
   "cell_type": "markdown",
   "metadata": {},
   "source": [
    "*[Ajoutez votre commentaire ici]*"
   ]
  },
  {
   "cell_type": "markdown",
   "metadata": {},
   "source": [
    "**Q13. Reprenez la question Q4, mais cette fois-ci, vous representerez le taux d'immunisation empirique avec un [graphique en violon](https://en.wikipedia.org/wiki/Violin_plot) qui représente la loi beta associée à chaque vaccin.**"
   ]
  },
  {
   "cell_type": "code",
   "execution_count": null,
   "metadata": {},
   "outputs": [],
   "source": []
  },
  {
   "cell_type": "markdown",
   "metadata": {},
   "source": [
    "*[Ajoutez votre commentaire ici]*"
   ]
  },
  {
   "cell_type": "markdown",
   "metadata": {},
   "source": [
    "**Q14. Représentez son regret pour différentes tailles du training set (comme dans la Q5). Comparez le regret avec les autres algorithmes.**"
   ]
  },
  {
   "cell_type": "code",
   "execution_count": null,
   "metadata": {},
   "outputs": [],
   "source": []
  },
  {
   "cell_type": "markdown",
   "metadata": {},
   "source": [
    "*[Ajoutez votre commentaire ici]*"
   ]
  },
  {
   "cell_type": "markdown",
   "metadata": {},
   "source": [
    "# Conclusion\n",
    "\n",
    "**Q15. Calculez le regret des algorithmes glouton, UCB & Thomson lorsqu'il y a un grand nombre de vaccins disponibles (K=100) (on prendra N=100). Faites le lien avec la [malédiction de la dimension](https://fr.wikipedia.org/wiki/Fl%C3%A9au_de_la_dimension).**"
   ]
  },
  {
   "cell_type": "code",
   "execution_count": null,
   "metadata": {},
   "outputs": [],
   "source": []
  },
  {
   "cell_type": "markdown",
   "metadata": {},
   "source": [
    "*[Ajoutez votre commentaire ici]*"
   ]
  }
 ],
 "metadata": {
  "kernelspec": {
   "display_name": "Python 3 (ipykernel)",
   "language": "python",
   "name": "python3"
  },
  "language_info": {
   "codemirror_mode": {
    "name": "ipython",
    "version": 3
   },
   "file_extension": ".py",
   "mimetype": "text/x-python",
   "name": "python",
   "nbconvert_exporter": "python",
   "pygments_lexer": "ipython3",
   "version": "3.11.9"
  }
 },
 "nbformat": 4,
 "nbformat_minor": 4
}
